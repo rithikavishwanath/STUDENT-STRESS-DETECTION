{
 "cells": [
  {
   "cell_type": "code",
   "execution_count": 1,
   "id": "9f0c69b1",
   "metadata": {},
   "outputs": [],
   "source": [
    "import pandas as pd\n",
    "import numpy as np\n",
    "from sklearn.model_selection import train_test_split"
   ]
  },
  {
   "cell_type": "code",
   "execution_count": 2,
   "id": "390f576f",
   "metadata": {},
   "outputs": [],
   "source": [
    "df=pd.read_csv('data.csv')"
   ]
  },
  {
   "cell_type": "code",
   "execution_count": 3,
   "id": "4db1ea36",
   "metadata": {},
   "outputs": [
    {
     "name": "stdout",
     "output_type": "stream",
     "text": [
      "<class 'pandas.core.frame.DataFrame'>\n",
      "RangeIndex: 268 entries, 0 to 267\n",
      "Data columns (total 50 columns):\n",
      " #   Column           Non-Null Count  Dtype  \n",
      "---  ------           --------------  -----  \n",
      " 0   inter_dom        268 non-null    object \n",
      " 1   Region           268 non-null    object \n",
      " 2   Gender           268 non-null    object \n",
      " 3   Academic         268 non-null    object \n",
      " 4   Age              268 non-null    int64  \n",
      " 5   Age_cate         268 non-null    int64  \n",
      " 6   Stay             268 non-null    int64  \n",
      " 7   Stay_Cate        268 non-null    object \n",
      " 8   Japanese         268 non-null    int64  \n",
      " 9   Japanese_cate    268 non-null    object \n",
      " 10  English          268 non-null    int64  \n",
      " 11  English_cate     268 non-null    object \n",
      " 12  Intimate         260 non-null    object \n",
      " 13  Religion         268 non-null    object \n",
      " 14  Suicide          268 non-null    object \n",
      " 15  Dep              268 non-null    object \n",
      " 16  DepType          268 non-null    object \n",
      " 17  ToDep            268 non-null    int64  \n",
      " 18  DepSev           268 non-null    object \n",
      " 19  ToSC             268 non-null    int64  \n",
      " 20  APD              268 non-null    int64  \n",
      " 21  AHome            268 non-null    int64  \n",
      " 22  APH              268 non-null    int64  \n",
      " 23  Afear            268 non-null    int64  \n",
      " 24  ACS              268 non-null    int64  \n",
      " 25  AGuilt           268 non-null    int64  \n",
      " 26  AMiscell         268 non-null    int64  \n",
      " 27  ToAS             268 non-null    int64  \n",
      " 28  Partner          268 non-null    int64  \n",
      " 29  Friends          268 non-null    int64  \n",
      " 30  Parents          268 non-null    int64  \n",
      " 31  Relative         268 non-null    int64  \n",
      " 32  Profess          268 non-null    int64  \n",
      " 33   Phone           268 non-null    int64  \n",
      " 34  Doctor           268 non-null    int64  \n",
      " 35  Reli             268 non-null    int64  \n",
      " 36  Alone            268 non-null    int64  \n",
      " 37  Others           268 non-null    int64  \n",
      " 38  Internet         242 non-null    float64\n",
      " 39  Partner_bi       268 non-null    object \n",
      " 40  Friends_bi       268 non-null    object \n",
      " 41  Parents_bi       268 non-null    object \n",
      " 42  Relative_bi      268 non-null    object \n",
      " 43  Professional_bi  268 non-null    object \n",
      " 44  Phone_bi         268 non-null    object \n",
      " 45  Doctor_bi        268 non-null    object \n",
      " 46  religion_bi      268 non-null    object \n",
      " 47  Alone_bi         268 non-null    object \n",
      " 48  Others_bi        268 non-null    object \n",
      " 49  Internet_bi      268 non-null    object \n",
      "dtypes: float64(1), int64(25), object(24)\n",
      "memory usage: 104.8+ KB\n"
     ]
    }
   ],
   "source": [
    "df.info()"
   ]
  },
  {
   "cell_type": "code",
   "execution_count": 4,
   "id": "c9ffc866",
   "metadata": {},
   "outputs": [
    {
     "data": {
      "text/html": [
       "<div>\n",
       "<style scoped>\n",
       "    .dataframe tbody tr th:only-of-type {\n",
       "        vertical-align: middle;\n",
       "    }\n",
       "\n",
       "    .dataframe tbody tr th {\n",
       "        vertical-align: top;\n",
       "    }\n",
       "\n",
       "    .dataframe thead th {\n",
       "        text-align: right;\n",
       "    }\n",
       "</style>\n",
       "<table border=\"1\" class=\"dataframe\">\n",
       "  <thead>\n",
       "    <tr style=\"text-align: right;\">\n",
       "      <th></th>\n",
       "      <th>inter_dom</th>\n",
       "      <th>Region</th>\n",
       "      <th>Gender</th>\n",
       "      <th>Academic</th>\n",
       "      <th>Age</th>\n",
       "      <th>Age_cate</th>\n",
       "      <th>Stay</th>\n",
       "      <th>Stay_Cate</th>\n",
       "      <th>Japanese</th>\n",
       "      <th>Japanese_cate</th>\n",
       "      <th>...</th>\n",
       "      <th>Friends_bi</th>\n",
       "      <th>Parents_bi</th>\n",
       "      <th>Relative_bi</th>\n",
       "      <th>Professional_bi</th>\n",
       "      <th>Phone_bi</th>\n",
       "      <th>Doctor_bi</th>\n",
       "      <th>religion_bi</th>\n",
       "      <th>Alone_bi</th>\n",
       "      <th>Others_bi</th>\n",
       "      <th>Internet_bi</th>\n",
       "    </tr>\n",
       "  </thead>\n",
       "  <tbody>\n",
       "    <tr>\n",
       "      <th>0</th>\n",
       "      <td>Inter</td>\n",
       "      <td>SEA</td>\n",
       "      <td>Male</td>\n",
       "      <td>Grad</td>\n",
       "      <td>24</td>\n",
       "      <td>4</td>\n",
       "      <td>5</td>\n",
       "      <td>Long</td>\n",
       "      <td>3</td>\n",
       "      <td>Average</td>\n",
       "      <td>...</td>\n",
       "      <td>Yes</td>\n",
       "      <td>Yes</td>\n",
       "      <td>No</td>\n",
       "      <td>No</td>\n",
       "      <td>No</td>\n",
       "      <td>No</td>\n",
       "      <td>No</td>\n",
       "      <td>No</td>\n",
       "      <td>No</td>\n",
       "      <td>No</td>\n",
       "    </tr>\n",
       "    <tr>\n",
       "      <th>1</th>\n",
       "      <td>Inter</td>\n",
       "      <td>SEA</td>\n",
       "      <td>Male</td>\n",
       "      <td>Grad</td>\n",
       "      <td>28</td>\n",
       "      <td>5</td>\n",
       "      <td>1</td>\n",
       "      <td>Short</td>\n",
       "      <td>4</td>\n",
       "      <td>High</td>\n",
       "      <td>...</td>\n",
       "      <td>Yes</td>\n",
       "      <td>Yes</td>\n",
       "      <td>No</td>\n",
       "      <td>No</td>\n",
       "      <td>No</td>\n",
       "      <td>No</td>\n",
       "      <td>No</td>\n",
       "      <td>No</td>\n",
       "      <td>No</td>\n",
       "      <td>No</td>\n",
       "    </tr>\n",
       "    <tr>\n",
       "      <th>2</th>\n",
       "      <td>Inter</td>\n",
       "      <td>SEA</td>\n",
       "      <td>Male</td>\n",
       "      <td>Grad</td>\n",
       "      <td>25</td>\n",
       "      <td>4</td>\n",
       "      <td>6</td>\n",
       "      <td>Long</td>\n",
       "      <td>4</td>\n",
       "      <td>High</td>\n",
       "      <td>...</td>\n",
       "      <td>No</td>\n",
       "      <td>No</td>\n",
       "      <td>No</td>\n",
       "      <td>No</td>\n",
       "      <td>No</td>\n",
       "      <td>No</td>\n",
       "      <td>No</td>\n",
       "      <td>No</td>\n",
       "      <td>No</td>\n",
       "      <td>No</td>\n",
       "    </tr>\n",
       "    <tr>\n",
       "      <th>3</th>\n",
       "      <td>Inter</td>\n",
       "      <td>EA</td>\n",
       "      <td>Female</td>\n",
       "      <td>Grad</td>\n",
       "      <td>29</td>\n",
       "      <td>5</td>\n",
       "      <td>1</td>\n",
       "      <td>Short</td>\n",
       "      <td>2</td>\n",
       "      <td>Low</td>\n",
       "      <td>...</td>\n",
       "      <td>Yes</td>\n",
       "      <td>Yes</td>\n",
       "      <td>Yes</td>\n",
       "      <td>Yes</td>\n",
       "      <td>No</td>\n",
       "      <td>No</td>\n",
       "      <td>No</td>\n",
       "      <td>No</td>\n",
       "      <td>No</td>\n",
       "      <td>No</td>\n",
       "    </tr>\n",
       "    <tr>\n",
       "      <th>4</th>\n",
       "      <td>Inter</td>\n",
       "      <td>EA</td>\n",
       "      <td>Female</td>\n",
       "      <td>Grad</td>\n",
       "      <td>28</td>\n",
       "      <td>5</td>\n",
       "      <td>1</td>\n",
       "      <td>Short</td>\n",
       "      <td>1</td>\n",
       "      <td>Low</td>\n",
       "      <td>...</td>\n",
       "      <td>Yes</td>\n",
       "      <td>Yes</td>\n",
       "      <td>No</td>\n",
       "      <td>Yes</td>\n",
       "      <td>No</td>\n",
       "      <td>Yes</td>\n",
       "      <td>Yes</td>\n",
       "      <td>No</td>\n",
       "      <td>No</td>\n",
       "      <td>No</td>\n",
       "    </tr>\n",
       "  </tbody>\n",
       "</table>\n",
       "<p>5 rows × 50 columns</p>\n",
       "</div>"
      ],
      "text/plain": [
       "  inter_dom Region  Gender Academic  Age  Age_cate  Stay Stay_Cate  Japanese  \\\n",
       "0     Inter    SEA    Male     Grad   24         4     5      Long         3   \n",
       "1     Inter    SEA    Male     Grad   28         5     1     Short         4   \n",
       "2     Inter    SEA    Male     Grad   25         4     6      Long         4   \n",
       "3     Inter     EA  Female     Grad   29         5     1     Short         2   \n",
       "4     Inter     EA  Female     Grad   28         5     1     Short         1   \n",
       "\n",
       "  Japanese_cate  ...  Friends_bi Parents_bi Relative_bi Professional_bi  \\\n",
       "0       Average  ...         Yes        Yes          No              No   \n",
       "1          High  ...         Yes        Yes          No              No   \n",
       "2          High  ...          No         No          No              No   \n",
       "3           Low  ...         Yes        Yes         Yes             Yes   \n",
       "4           Low  ...         Yes        Yes          No             Yes   \n",
       "\n",
       "  Phone_bi Doctor_bi religion_bi  Alone_bi Others_bi  Internet_bi  \n",
       "0       No        No          No        No        No           No  \n",
       "1       No        No          No        No        No           No  \n",
       "2       No        No          No        No        No           No  \n",
       "3       No        No          No        No        No           No  \n",
       "4       No       Yes         Yes        No        No           No  \n",
       "\n",
       "[5 rows x 50 columns]"
      ]
     },
     "execution_count": 4,
     "metadata": {},
     "output_type": "execute_result"
    }
   ],
   "source": [
    "df.head()"
   ]
  },
  {
   "cell_type": "code",
   "execution_count": 5,
   "id": "464865fd",
   "metadata": {},
   "outputs": [
    {
     "data": {
      "text/plain": [
       "Female    170\n",
       "Male       98\n",
       "Name: Gender, dtype: int64"
      ]
     },
     "execution_count": 5,
     "metadata": {},
     "output_type": "execute_result"
    }
   ],
   "source": [
    "df['Gender'].value_counts()"
   ]
  },
  {
   "cell_type": "code",
   "execution_count": 6,
   "id": "e0fd9ac9",
   "metadata": {},
   "outputs": [],
   "source": [
    "#one hot encoding\n",
    "df= pd.get_dummies(df,columns=None, drop_first=True )"
   ]
  },
  {
   "cell_type": "code",
   "execution_count": 7,
   "id": "3e4c34b1",
   "metadata": {},
   "outputs": [
    {
     "data": {
      "text/html": [
       "<div>\n",
       "<style scoped>\n",
       "    .dataframe tbody tr th:only-of-type {\n",
       "        vertical-align: middle;\n",
       "    }\n",
       "\n",
       "    .dataframe tbody tr th {\n",
       "        vertical-align: top;\n",
       "    }\n",
       "\n",
       "    .dataframe thead th {\n",
       "        text-align: right;\n",
       "    }\n",
       "</style>\n",
       "<table border=\"1\" class=\"dataframe\">\n",
       "  <thead>\n",
       "    <tr style=\"text-align: right;\">\n",
       "      <th></th>\n",
       "      <th>Age</th>\n",
       "      <th>Age_cate</th>\n",
       "      <th>Stay</th>\n",
       "      <th>Japanese</th>\n",
       "      <th>English</th>\n",
       "      <th>ToDep</th>\n",
       "      <th>ToSC</th>\n",
       "      <th>APD</th>\n",
       "      <th>AHome</th>\n",
       "      <th>APH</th>\n",
       "      <th>...</th>\n",
       "      <th>Friends_bi_Yes</th>\n",
       "      <th>Parents_bi_Yes</th>\n",
       "      <th>Relative_bi_Yes</th>\n",
       "      <th>Professional_bi_Yes</th>\n",
       "      <th>Phone_bi_Yes</th>\n",
       "      <th>Doctor_bi_Yes</th>\n",
       "      <th>religion_bi_Yes</th>\n",
       "      <th>Alone_bi_Yes</th>\n",
       "      <th>Others_bi_Yes</th>\n",
       "      <th>Internet_bi_Yes</th>\n",
       "    </tr>\n",
       "  </thead>\n",
       "  <tbody>\n",
       "    <tr>\n",
       "      <th>0</th>\n",
       "      <td>24</td>\n",
       "      <td>4</td>\n",
       "      <td>5</td>\n",
       "      <td>3</td>\n",
       "      <td>5</td>\n",
       "      <td>0</td>\n",
       "      <td>34</td>\n",
       "      <td>23</td>\n",
       "      <td>9</td>\n",
       "      <td>11</td>\n",
       "      <td>...</td>\n",
       "      <td>1</td>\n",
       "      <td>1</td>\n",
       "      <td>0</td>\n",
       "      <td>0</td>\n",
       "      <td>0</td>\n",
       "      <td>0</td>\n",
       "      <td>0</td>\n",
       "      <td>0</td>\n",
       "      <td>0</td>\n",
       "      <td>0</td>\n",
       "    </tr>\n",
       "    <tr>\n",
       "      <th>1</th>\n",
       "      <td>28</td>\n",
       "      <td>5</td>\n",
       "      <td>1</td>\n",
       "      <td>4</td>\n",
       "      <td>4</td>\n",
       "      <td>2</td>\n",
       "      <td>48</td>\n",
       "      <td>8</td>\n",
       "      <td>7</td>\n",
       "      <td>5</td>\n",
       "      <td>...</td>\n",
       "      <td>1</td>\n",
       "      <td>1</td>\n",
       "      <td>0</td>\n",
       "      <td>0</td>\n",
       "      <td>0</td>\n",
       "      <td>0</td>\n",
       "      <td>0</td>\n",
       "      <td>0</td>\n",
       "      <td>0</td>\n",
       "      <td>0</td>\n",
       "    </tr>\n",
       "    <tr>\n",
       "      <th>2</th>\n",
       "      <td>25</td>\n",
       "      <td>4</td>\n",
       "      <td>6</td>\n",
       "      <td>4</td>\n",
       "      <td>4</td>\n",
       "      <td>2</td>\n",
       "      <td>41</td>\n",
       "      <td>13</td>\n",
       "      <td>4</td>\n",
       "      <td>7</td>\n",
       "      <td>...</td>\n",
       "      <td>0</td>\n",
       "      <td>0</td>\n",
       "      <td>0</td>\n",
       "      <td>0</td>\n",
       "      <td>0</td>\n",
       "      <td>0</td>\n",
       "      <td>0</td>\n",
       "      <td>0</td>\n",
       "      <td>0</td>\n",
       "      <td>0</td>\n",
       "    </tr>\n",
       "    <tr>\n",
       "      <th>3</th>\n",
       "      <td>29</td>\n",
       "      <td>5</td>\n",
       "      <td>1</td>\n",
       "      <td>2</td>\n",
       "      <td>3</td>\n",
       "      <td>3</td>\n",
       "      <td>37</td>\n",
       "      <td>16</td>\n",
       "      <td>10</td>\n",
       "      <td>10</td>\n",
       "      <td>...</td>\n",
       "      <td>1</td>\n",
       "      <td>1</td>\n",
       "      <td>1</td>\n",
       "      <td>1</td>\n",
       "      <td>0</td>\n",
       "      <td>0</td>\n",
       "      <td>0</td>\n",
       "      <td>0</td>\n",
       "      <td>0</td>\n",
       "      <td>0</td>\n",
       "    </tr>\n",
       "    <tr>\n",
       "      <th>4</th>\n",
       "      <td>28</td>\n",
       "      <td>5</td>\n",
       "      <td>1</td>\n",
       "      <td>1</td>\n",
       "      <td>3</td>\n",
       "      <td>3</td>\n",
       "      <td>37</td>\n",
       "      <td>15</td>\n",
       "      <td>12</td>\n",
       "      <td>5</td>\n",
       "      <td>...</td>\n",
       "      <td>1</td>\n",
       "      <td>1</td>\n",
       "      <td>0</td>\n",
       "      <td>1</td>\n",
       "      <td>0</td>\n",
       "      <td>1</td>\n",
       "      <td>1</td>\n",
       "      <td>0</td>\n",
       "      <td>0</td>\n",
       "      <td>0</td>\n",
       "    </tr>\n",
       "    <tr>\n",
       "      <th>...</th>\n",
       "      <td>...</td>\n",
       "      <td>...</td>\n",
       "      <td>...</td>\n",
       "      <td>...</td>\n",
       "      <td>...</td>\n",
       "      <td>...</td>\n",
       "      <td>...</td>\n",
       "      <td>...</td>\n",
       "      <td>...</td>\n",
       "      <td>...</td>\n",
       "      <td>...</td>\n",
       "      <td>...</td>\n",
       "      <td>...</td>\n",
       "      <td>...</td>\n",
       "      <td>...</td>\n",
       "      <td>...</td>\n",
       "      <td>...</td>\n",
       "      <td>...</td>\n",
       "      <td>...</td>\n",
       "      <td>...</td>\n",
       "      <td>...</td>\n",
       "    </tr>\n",
       "    <tr>\n",
       "      <th>263</th>\n",
       "      <td>21</td>\n",
       "      <td>3</td>\n",
       "      <td>4</td>\n",
       "      <td>5</td>\n",
       "      <td>4</td>\n",
       "      <td>8</td>\n",
       "      <td>27</td>\n",
       "      <td>16</td>\n",
       "      <td>9</td>\n",
       "      <td>10</td>\n",
       "      <td>...</td>\n",
       "      <td>1</td>\n",
       "      <td>1</td>\n",
       "      <td>0</td>\n",
       "      <td>0</td>\n",
       "      <td>0</td>\n",
       "      <td>0</td>\n",
       "      <td>0</td>\n",
       "      <td>0</td>\n",
       "      <td>0</td>\n",
       "      <td>1</td>\n",
       "    </tr>\n",
       "    <tr>\n",
       "      <th>264</th>\n",
       "      <td>22</td>\n",
       "      <td>3</td>\n",
       "      <td>3</td>\n",
       "      <td>3</td>\n",
       "      <td>4</td>\n",
       "      <td>2</td>\n",
       "      <td>48</td>\n",
       "      <td>8</td>\n",
       "      <td>10</td>\n",
       "      <td>5</td>\n",
       "      <td>...</td>\n",
       "      <td>1</td>\n",
       "      <td>1</td>\n",
       "      <td>1</td>\n",
       "      <td>0</td>\n",
       "      <td>0</td>\n",
       "      <td>0</td>\n",
       "      <td>0</td>\n",
       "      <td>0</td>\n",
       "      <td>0</td>\n",
       "      <td>0</td>\n",
       "    </tr>\n",
       "    <tr>\n",
       "      <th>265</th>\n",
       "      <td>19</td>\n",
       "      <td>2</td>\n",
       "      <td>1</td>\n",
       "      <td>5</td>\n",
       "      <td>3</td>\n",
       "      <td>9</td>\n",
       "      <td>47</td>\n",
       "      <td>8</td>\n",
       "      <td>7</td>\n",
       "      <td>5</td>\n",
       "      <td>...</td>\n",
       "      <td>1</td>\n",
       "      <td>1</td>\n",
       "      <td>1</td>\n",
       "      <td>1</td>\n",
       "      <td>1</td>\n",
       "      <td>1</td>\n",
       "      <td>0</td>\n",
       "      <td>0</td>\n",
       "      <td>0</td>\n",
       "      <td>0</td>\n",
       "    </tr>\n",
       "    <tr>\n",
       "      <th>266</th>\n",
       "      <td>19</td>\n",
       "      <td>2</td>\n",
       "      <td>1</td>\n",
       "      <td>5</td>\n",
       "      <td>3</td>\n",
       "      <td>1</td>\n",
       "      <td>43</td>\n",
       "      <td>8</td>\n",
       "      <td>12</td>\n",
       "      <td>5</td>\n",
       "      <td>...</td>\n",
       "      <td>1</td>\n",
       "      <td>1</td>\n",
       "      <td>1</td>\n",
       "      <td>1</td>\n",
       "      <td>1</td>\n",
       "      <td>1</td>\n",
       "      <td>0</td>\n",
       "      <td>0</td>\n",
       "      <td>0</td>\n",
       "      <td>0</td>\n",
       "    </tr>\n",
       "    <tr>\n",
       "      <th>267</th>\n",
       "      <td>20</td>\n",
       "      <td>2</td>\n",
       "      <td>2</td>\n",
       "      <td>5</td>\n",
       "      <td>3</td>\n",
       "      <td>7</td>\n",
       "      <td>41</td>\n",
       "      <td>14</td>\n",
       "      <td>4</td>\n",
       "      <td>10</td>\n",
       "      <td>...</td>\n",
       "      <td>1</td>\n",
       "      <td>0</td>\n",
       "      <td>0</td>\n",
       "      <td>0</td>\n",
       "      <td>0</td>\n",
       "      <td>0</td>\n",
       "      <td>0</td>\n",
       "      <td>1</td>\n",
       "      <td>0</td>\n",
       "      <td>0</td>\n",
       "    </tr>\n",
       "  </tbody>\n",
       "</table>\n",
       "<p>268 rows × 60 columns</p>\n",
       "</div>"
      ],
      "text/plain": [
       "     Age  Age_cate  Stay  Japanese  English  ToDep  ToSC  APD  AHome  APH  \\\n",
       "0     24         4     5         3        5      0    34   23      9   11   \n",
       "1     28         5     1         4        4      2    48    8      7    5   \n",
       "2     25         4     6         4        4      2    41   13      4    7   \n",
       "3     29         5     1         2        3      3    37   16     10   10   \n",
       "4     28         5     1         1        3      3    37   15     12    5   \n",
       "..   ...       ...   ...       ...      ...    ...   ...  ...    ...  ...   \n",
       "263   21         3     4         5        4      8    27   16      9   10   \n",
       "264   22         3     3         3        4      2    48    8     10    5   \n",
       "265   19         2     1         5        3      9    47    8      7    5   \n",
       "266   19         2     1         5        3      1    43    8     12    5   \n",
       "267   20         2     2         5        3      7    41   14      4   10   \n",
       "\n",
       "     ...  Friends_bi_Yes  Parents_bi_Yes  Relative_bi_Yes  \\\n",
       "0    ...               1               1                0   \n",
       "1    ...               1               1                0   \n",
       "2    ...               0               0                0   \n",
       "3    ...               1               1                1   \n",
       "4    ...               1               1                0   \n",
       "..   ...             ...             ...              ...   \n",
       "263  ...               1               1                0   \n",
       "264  ...               1               1                1   \n",
       "265  ...               1               1                1   \n",
       "266  ...               1               1                1   \n",
       "267  ...               1               0                0   \n",
       "\n",
       "     Professional_bi_Yes  Phone_bi_Yes  Doctor_bi_Yes  religion_bi_Yes  \\\n",
       "0                      0             0              0                0   \n",
       "1                      0             0              0                0   \n",
       "2                      0             0              0                0   \n",
       "3                      1             0              0                0   \n",
       "4                      1             0              1                1   \n",
       "..                   ...           ...            ...              ...   \n",
       "263                    0             0              0                0   \n",
       "264                    0             0              0                0   \n",
       "265                    1             1              1                0   \n",
       "266                    1             1              1                0   \n",
       "267                    0             0              0                0   \n",
       "\n",
       "     Alone_bi_Yes  Others_bi_Yes  Internet_bi_Yes  \n",
       "0               0              0                0  \n",
       "1               0              0                0  \n",
       "2               0              0                0  \n",
       "3               0              0                0  \n",
       "4               0              0                0  \n",
       "..            ...            ...              ...  \n",
       "263             0              0                1  \n",
       "264             0              0                0  \n",
       "265             0              0                0  \n",
       "266             0              0                0  \n",
       "267             1              0                0  \n",
       "\n",
       "[268 rows x 60 columns]"
      ]
     },
     "execution_count": 7,
     "metadata": {},
     "output_type": "execute_result"
    }
   ],
   "source": [
    "df"
   ]
  },
  {
   "cell_type": "code",
   "execution_count": 8,
   "id": "4698a091",
   "metadata": {},
   "outputs": [
    {
     "data": {
      "text/html": [
       "<div>\n",
       "<style scoped>\n",
       "    .dataframe tbody tr th:only-of-type {\n",
       "        vertical-align: middle;\n",
       "    }\n",
       "\n",
       "    .dataframe tbody tr th {\n",
       "        vertical-align: top;\n",
       "    }\n",
       "\n",
       "    .dataframe thead th {\n",
       "        text-align: right;\n",
       "    }\n",
       "</style>\n",
       "<table border=\"1\" class=\"dataframe\">\n",
       "  <thead>\n",
       "    <tr style=\"text-align: right;\">\n",
       "      <th></th>\n",
       "      <th>Age</th>\n",
       "      <th>Age_cate</th>\n",
       "      <th>Stay</th>\n",
       "      <th>Japanese</th>\n",
       "      <th>English</th>\n",
       "      <th>ToDep</th>\n",
       "      <th>ToSC</th>\n",
       "      <th>APD</th>\n",
       "      <th>AHome</th>\n",
       "      <th>APH</th>\n",
       "      <th>...</th>\n",
       "      <th>Friends_bi_Yes</th>\n",
       "      <th>Parents_bi_Yes</th>\n",
       "      <th>Relative_bi_Yes</th>\n",
       "      <th>Professional_bi_Yes</th>\n",
       "      <th>Phone_bi_Yes</th>\n",
       "      <th>Doctor_bi_Yes</th>\n",
       "      <th>religion_bi_Yes</th>\n",
       "      <th>Alone_bi_Yes</th>\n",
       "      <th>Others_bi_Yes</th>\n",
       "      <th>Internet_bi_Yes</th>\n",
       "    </tr>\n",
       "  </thead>\n",
       "  <tbody>\n",
       "    <tr>\n",
       "      <th>0</th>\n",
       "      <td>24</td>\n",
       "      <td>4</td>\n",
       "      <td>5</td>\n",
       "      <td>3</td>\n",
       "      <td>5</td>\n",
       "      <td>0</td>\n",
       "      <td>34</td>\n",
       "      <td>23</td>\n",
       "      <td>9</td>\n",
       "      <td>11</td>\n",
       "      <td>...</td>\n",
       "      <td>1</td>\n",
       "      <td>1</td>\n",
       "      <td>0</td>\n",
       "      <td>0</td>\n",
       "      <td>0</td>\n",
       "      <td>0</td>\n",
       "      <td>0</td>\n",
       "      <td>0</td>\n",
       "      <td>0</td>\n",
       "      <td>0</td>\n",
       "    </tr>\n",
       "    <tr>\n",
       "      <th>1</th>\n",
       "      <td>28</td>\n",
       "      <td>5</td>\n",
       "      <td>1</td>\n",
       "      <td>4</td>\n",
       "      <td>4</td>\n",
       "      <td>2</td>\n",
       "      <td>48</td>\n",
       "      <td>8</td>\n",
       "      <td>7</td>\n",
       "      <td>5</td>\n",
       "      <td>...</td>\n",
       "      <td>1</td>\n",
       "      <td>1</td>\n",
       "      <td>0</td>\n",
       "      <td>0</td>\n",
       "      <td>0</td>\n",
       "      <td>0</td>\n",
       "      <td>0</td>\n",
       "      <td>0</td>\n",
       "      <td>0</td>\n",
       "      <td>0</td>\n",
       "    </tr>\n",
       "    <tr>\n",
       "      <th>2</th>\n",
       "      <td>25</td>\n",
       "      <td>4</td>\n",
       "      <td>6</td>\n",
       "      <td>4</td>\n",
       "      <td>4</td>\n",
       "      <td>2</td>\n",
       "      <td>41</td>\n",
       "      <td>13</td>\n",
       "      <td>4</td>\n",
       "      <td>7</td>\n",
       "      <td>...</td>\n",
       "      <td>0</td>\n",
       "      <td>0</td>\n",
       "      <td>0</td>\n",
       "      <td>0</td>\n",
       "      <td>0</td>\n",
       "      <td>0</td>\n",
       "      <td>0</td>\n",
       "      <td>0</td>\n",
       "      <td>0</td>\n",
       "      <td>0</td>\n",
       "    </tr>\n",
       "    <tr>\n",
       "      <th>3</th>\n",
       "      <td>29</td>\n",
       "      <td>5</td>\n",
       "      <td>1</td>\n",
       "      <td>2</td>\n",
       "      <td>3</td>\n",
       "      <td>3</td>\n",
       "      <td>37</td>\n",
       "      <td>16</td>\n",
       "      <td>10</td>\n",
       "      <td>10</td>\n",
       "      <td>...</td>\n",
       "      <td>1</td>\n",
       "      <td>1</td>\n",
       "      <td>1</td>\n",
       "      <td>1</td>\n",
       "      <td>0</td>\n",
       "      <td>0</td>\n",
       "      <td>0</td>\n",
       "      <td>0</td>\n",
       "      <td>0</td>\n",
       "      <td>0</td>\n",
       "    </tr>\n",
       "    <tr>\n",
       "      <th>4</th>\n",
       "      <td>28</td>\n",
       "      <td>5</td>\n",
       "      <td>1</td>\n",
       "      <td>1</td>\n",
       "      <td>3</td>\n",
       "      <td>3</td>\n",
       "      <td>37</td>\n",
       "      <td>15</td>\n",
       "      <td>12</td>\n",
       "      <td>5</td>\n",
       "      <td>...</td>\n",
       "      <td>1</td>\n",
       "      <td>1</td>\n",
       "      <td>0</td>\n",
       "      <td>1</td>\n",
       "      <td>0</td>\n",
       "      <td>1</td>\n",
       "      <td>1</td>\n",
       "      <td>0</td>\n",
       "      <td>0</td>\n",
       "      <td>0</td>\n",
       "    </tr>\n",
       "  </tbody>\n",
       "</table>\n",
       "<p>5 rows × 60 columns</p>\n",
       "</div>"
      ],
      "text/plain": [
       "   Age  Age_cate  Stay  Japanese  English  ToDep  ToSC  APD  AHome  APH  ...  \\\n",
       "0   24         4     5         3        5      0    34   23      9   11  ...   \n",
       "1   28         5     1         4        4      2    48    8      7    5  ...   \n",
       "2   25         4     6         4        4      2    41   13      4    7  ...   \n",
       "3   29         5     1         2        3      3    37   16     10   10  ...   \n",
       "4   28         5     1         1        3      3    37   15     12    5  ...   \n",
       "\n",
       "   Friends_bi_Yes  Parents_bi_Yes  Relative_bi_Yes  Professional_bi_Yes  \\\n",
       "0               1               1                0                    0   \n",
       "1               1               1                0                    0   \n",
       "2               0               0                0                    0   \n",
       "3               1               1                1                    1   \n",
       "4               1               1                0                    1   \n",
       "\n",
       "   Phone_bi_Yes  Doctor_bi_Yes  religion_bi_Yes  Alone_bi_Yes  Others_bi_Yes  \\\n",
       "0             0              0                0             0              0   \n",
       "1             0              0                0             0              0   \n",
       "2             0              0                0             0              0   \n",
       "3             0              0                0             0              0   \n",
       "4             0              1                1             0              0   \n",
       "\n",
       "   Internet_bi_Yes  \n",
       "0                0  \n",
       "1                0  \n",
       "2                0  \n",
       "3                0  \n",
       "4                0  \n",
       "\n",
       "[5 rows x 60 columns]"
      ]
     },
     "execution_count": 8,
     "metadata": {},
     "output_type": "execute_result"
    }
   ],
   "source": [
    "df.head()"
   ]
  },
  {
   "cell_type": "code",
   "execution_count": 9,
   "id": "076c906e",
   "metadata": {},
   "outputs": [
    {
     "name": "stdout",
     "output_type": "stream",
     "text": [
      "<class 'pandas.core.frame.DataFrame'>\n",
      "RangeIndex: 268 entries, 0 to 267\n",
      "Data columns (total 60 columns):\n",
      " #   Column               Non-Null Count  Dtype  \n",
      "---  ------               --------------  -----  \n",
      " 0   Age                  268 non-null    int64  \n",
      " 1   Age_cate             268 non-null    int64  \n",
      " 2   Stay                 268 non-null    int64  \n",
      " 3   Japanese             268 non-null    int64  \n",
      " 4   English              268 non-null    int64  \n",
      " 5   ToDep                268 non-null    int64  \n",
      " 6   ToSC                 268 non-null    int64  \n",
      " 7   APD                  268 non-null    int64  \n",
      " 8   AHome                268 non-null    int64  \n",
      " 9   APH                  268 non-null    int64  \n",
      " 10  Afear                268 non-null    int64  \n",
      " 11  ACS                  268 non-null    int64  \n",
      " 12  AGuilt               268 non-null    int64  \n",
      " 13  AMiscell             268 non-null    int64  \n",
      " 14  ToAS                 268 non-null    int64  \n",
      " 15  Partner              268 non-null    int64  \n",
      " 16  Friends              268 non-null    int64  \n",
      " 17  Parents              268 non-null    int64  \n",
      " 18  Relative             268 non-null    int64  \n",
      " 19  Profess              268 non-null    int64  \n",
      " 20   Phone               268 non-null    int64  \n",
      " 21  Doctor               268 non-null    int64  \n",
      " 22  Reli                 268 non-null    int64  \n",
      " 23  Alone                268 non-null    int64  \n",
      " 24  Others               268 non-null    int64  \n",
      " 25  Internet             242 non-null    float64\n",
      " 26  inter_dom_Inter      268 non-null    uint8  \n",
      " 27  Region_JAP           268 non-null    uint8  \n",
      " 28  Region_Others        268 non-null    uint8  \n",
      " 29  Region_SA            268 non-null    uint8  \n",
      " 30  Region_SEA           268 non-null    uint8  \n",
      " 31  Gender_Male          268 non-null    uint8  \n",
      " 32  Academic_Under       268 non-null    uint8  \n",
      " 33  Stay_Cate_Medium     268 non-null    uint8  \n",
      " 34  Stay_Cate_Short      268 non-null    uint8  \n",
      " 35  Japanese_cate_High   268 non-null    uint8  \n",
      " 36  Japanese_cate_Low    268 non-null    uint8  \n",
      " 37  English_cate_High    268 non-null    uint8  \n",
      " 38  English_cate_Low     268 non-null    uint8  \n",
      " 39  Intimate_Yes         268 non-null    uint8  \n",
      " 40  Religion_Yes         268 non-null    uint8  \n",
      " 41  Suicide_Yes          268 non-null    uint8  \n",
      " 42  Dep_Yes              268 non-null    uint8  \n",
      " 43  DepType_No           268 non-null    uint8  \n",
      " 44  DepType_Other        268 non-null    uint8  \n",
      " 45  DepSev_Min           268 non-null    uint8  \n",
      " 46  DepSev_Mod           268 non-null    uint8  \n",
      " 47  DepSev_ModSev        268 non-null    uint8  \n",
      " 48  DepSev_Sev           268 non-null    uint8  \n",
      " 49  Partner_bi_Yes       268 non-null    uint8  \n",
      " 50  Friends_bi_Yes       268 non-null    uint8  \n",
      " 51  Parents_bi_Yes       268 non-null    uint8  \n",
      " 52  Relative_bi_Yes      268 non-null    uint8  \n",
      " 53  Professional_bi_Yes  268 non-null    uint8  \n",
      " 54  Phone_bi_Yes         268 non-null    uint8  \n",
      " 55  Doctor_bi_Yes        268 non-null    uint8  \n",
      " 56  religion_bi_Yes      268 non-null    uint8  \n",
      " 57  Alone_bi_Yes         268 non-null    uint8  \n",
      " 58  Others_bi_Yes        268 non-null    uint8  \n",
      " 59  Internet_bi_Yes      268 non-null    uint8  \n",
      "dtypes: float64(1), int64(25), uint8(34)\n",
      "memory usage: 63.5 KB\n"
     ]
    }
   ],
   "source": [
    "df.info()"
   ]
  },
  {
   "cell_type": "code",
   "execution_count": 10,
   "id": "3ccee46e",
   "metadata": {},
   "outputs": [
    {
     "data": {
      "text/plain": [
       "(268, 60)"
      ]
     },
     "execution_count": 10,
     "metadata": {},
     "output_type": "execute_result"
    }
   ],
   "source": [
    "df.shape"
   ]
  },
  {
   "cell_type": "code",
   "execution_count": 11,
   "id": "cdf2e3ec",
   "metadata": {},
   "outputs": [],
   "source": [
    "#filling null values\n",
    "df.fillna(df.mean(), inplace=True)"
   ]
  },
  {
   "cell_type": "code",
   "execution_count": 12,
   "id": "cad2f1c8",
   "metadata": {},
   "outputs": [
    {
     "name": "stdout",
     "output_type": "stream",
     "text": [
      "<class 'pandas.core.frame.DataFrame'>\n",
      "RangeIndex: 268 entries, 0 to 267\n",
      "Data columns (total 60 columns):\n",
      " #   Column               Non-Null Count  Dtype  \n",
      "---  ------               --------------  -----  \n",
      " 0   Age                  268 non-null    int64  \n",
      " 1   Age_cate             268 non-null    int64  \n",
      " 2   Stay                 268 non-null    int64  \n",
      " 3   Japanese             268 non-null    int64  \n",
      " 4   English              268 non-null    int64  \n",
      " 5   ToDep                268 non-null    int64  \n",
      " 6   ToSC                 268 non-null    int64  \n",
      " 7   APD                  268 non-null    int64  \n",
      " 8   AHome                268 non-null    int64  \n",
      " 9   APH                  268 non-null    int64  \n",
      " 10  Afear                268 non-null    int64  \n",
      " 11  ACS                  268 non-null    int64  \n",
      " 12  AGuilt               268 non-null    int64  \n",
      " 13  AMiscell             268 non-null    int64  \n",
      " 14  ToAS                 268 non-null    int64  \n",
      " 15  Partner              268 non-null    int64  \n",
      " 16  Friends              268 non-null    int64  \n",
      " 17  Parents              268 non-null    int64  \n",
      " 18  Relative             268 non-null    int64  \n",
      " 19  Profess              268 non-null    int64  \n",
      " 20   Phone               268 non-null    int64  \n",
      " 21  Doctor               268 non-null    int64  \n",
      " 22  Reli                 268 non-null    int64  \n",
      " 23  Alone                268 non-null    int64  \n",
      " 24  Others               268 non-null    int64  \n",
      " 25  Internet             268 non-null    float64\n",
      " 26  inter_dom_Inter      268 non-null    uint8  \n",
      " 27  Region_JAP           268 non-null    uint8  \n",
      " 28  Region_Others        268 non-null    uint8  \n",
      " 29  Region_SA            268 non-null    uint8  \n",
      " 30  Region_SEA           268 non-null    uint8  \n",
      " 31  Gender_Male          268 non-null    uint8  \n",
      " 32  Academic_Under       268 non-null    uint8  \n",
      " 33  Stay_Cate_Medium     268 non-null    uint8  \n",
      " 34  Stay_Cate_Short      268 non-null    uint8  \n",
      " 35  Japanese_cate_High   268 non-null    uint8  \n",
      " 36  Japanese_cate_Low    268 non-null    uint8  \n",
      " 37  English_cate_High    268 non-null    uint8  \n",
      " 38  English_cate_Low     268 non-null    uint8  \n",
      " 39  Intimate_Yes         268 non-null    uint8  \n",
      " 40  Religion_Yes         268 non-null    uint8  \n",
      " 41  Suicide_Yes          268 non-null    uint8  \n",
      " 42  Dep_Yes              268 non-null    uint8  \n",
      " 43  DepType_No           268 non-null    uint8  \n",
      " 44  DepType_Other        268 non-null    uint8  \n",
      " 45  DepSev_Min           268 non-null    uint8  \n",
      " 46  DepSev_Mod           268 non-null    uint8  \n",
      " 47  DepSev_ModSev        268 non-null    uint8  \n",
      " 48  DepSev_Sev           268 non-null    uint8  \n",
      " 49  Partner_bi_Yes       268 non-null    uint8  \n",
      " 50  Friends_bi_Yes       268 non-null    uint8  \n",
      " 51  Parents_bi_Yes       268 non-null    uint8  \n",
      " 52  Relative_bi_Yes      268 non-null    uint8  \n",
      " 53  Professional_bi_Yes  268 non-null    uint8  \n",
      " 54  Phone_bi_Yes         268 non-null    uint8  \n",
      " 55  Doctor_bi_Yes        268 non-null    uint8  \n",
      " 56  religion_bi_Yes      268 non-null    uint8  \n",
      " 57  Alone_bi_Yes         268 non-null    uint8  \n",
      " 58  Others_bi_Yes        268 non-null    uint8  \n",
      " 59  Internet_bi_Yes      268 non-null    uint8  \n",
      "dtypes: float64(1), int64(25), uint8(34)\n",
      "memory usage: 63.5 KB\n"
     ]
    }
   ],
   "source": [
    "df.info()"
   ]
  },
  {
   "cell_type": "code",
   "execution_count": 13,
   "id": "9f7651d8",
   "metadata": {},
   "outputs": [],
   "source": [
    "X = df.drop(['ToAS'], axis=1)\n",
    "y = df['ToAS']"
   ]
  },
  {
   "cell_type": "code",
   "execution_count": 14,
   "id": "205e8fd6",
   "metadata": {},
   "outputs": [],
   "source": [
    "#spliting the data\n",
    "from sklearn.model_selection import train_test_split\n",
    "X_train, X_test, y_train, y_test=train_test_split(X, y, test_size=0.3,random_state=2 )"
   ]
  },
  {
   "cell_type": "markdown",
   "id": "333c676c",
   "metadata": {},
   "source": [
    "###### feature selection"
   ]
  },
  {
   "cell_type": "code",
   "execution_count": 15,
   "id": "002ad268",
   "metadata": {},
   "outputs": [],
   "source": [
    "from sklearn.ensemble import GradientBoostingRegressor\n",
    "from sklearn.ensemble import RandomForestClassifier\n",
    "from sklearn.feature_selection import SelectFromModel"
   ]
  },
  {
   "cell_type": "code",
   "execution_count": 16,
   "id": "16ff6f75",
   "metadata": {},
   "outputs": [],
   "source": [
    "# rffs = SelectFromModel(RandomForestClassifier(n_estimators = 100))\n",
    "# rffs.fit(X, y)"
   ]
  },
  {
   "cell_type": "code",
   "execution_count": 17,
   "id": "f3be10fd",
   "metadata": {},
   "outputs": [],
   "source": [
    "rffs=RandomForestClassifier(n_estimators=100)"
   ]
  },
  {
   "cell_type": "code",
   "execution_count": 18,
   "id": "c17e56d5",
   "metadata": {},
   "outputs": [
    {
     "data": {
      "text/plain": [
       "RandomForestClassifier()"
      ]
     },
     "execution_count": 18,
     "metadata": {},
     "output_type": "execute_result"
    }
   ],
   "source": [
    "rffs.fit(X,y)"
   ]
  },
  {
   "cell_type": "code",
   "execution_count": 19,
   "id": "70277b19",
   "metadata": {},
   "outputs": [],
   "source": [
    "importances_rffs=rffs.feature_importances_"
   ]
  },
  {
   "cell_type": "code",
   "execution_count": 20,
   "id": "7a0da14a",
   "metadata": {},
   "outputs": [
    {
     "name": "stdout",
     "output_type": "stream",
     "text": [
      "[0.02995703 0.02105233 0.02411127 0.02119527 0.02004764 0.03760793\n",
      " 0.04250393 0.04417249 0.04671741 0.03573587 0.0340352  0.03397368\n",
      " 0.02455595 0.06003218 0.02601507 0.02539424 0.02609616 0.02371952\n",
      " 0.02462514 0.0213798  0.02280952 0.01698276 0.0263294  0.0216633\n",
      " 0.02799058 0.00734825 0.00735155 0.00291306 0.00405237 0.01107235\n",
      " 0.01008922 0.00514801 0.01029427 0.00991776 0.00801585 0.00853673\n",
      " 0.00723086 0.00584095 0.01157855 0.01005747 0.00956114 0.00891239\n",
      " 0.01042821 0.00929119 0.00821622 0.00924958 0.00388857 0.00315443\n",
      " 0.00917051 0.01000298 0.01022209 0.00866154 0.00728767 0.00493841\n",
      " 0.0066676  0.00310786 0.00797835 0.00455019 0.00656015]\n"
     ]
    }
   ],
   "source": [
    "print(importances_rffs)"
   ]
  },
  {
   "cell_type": "code",
   "execution_count": 21,
   "id": "d6a4cdd2",
   "metadata": {},
   "outputs": [
    {
     "data": {
      "text/plain": [
       "GradientBoostingRegressor()"
      ]
     },
     "execution_count": 21,
     "metadata": {},
     "output_type": "execute_result"
    }
   ],
   "source": [
    "gbm = GradientBoostingRegressor()\n",
    "gbm.fit(X, y)"
   ]
  },
  {
   "cell_type": "code",
   "execution_count": 22,
   "id": "4e34d2a0",
   "metadata": {},
   "outputs": [],
   "source": [
    "importances_gbm = gbm.feature_importances_"
   ]
  },
  {
   "cell_type": "code",
   "execution_count": 23,
   "id": "fb90b7c6",
   "metadata": {},
   "outputs": [
    {
     "name": "stdout",
     "output_type": "stream",
     "text": [
      "[4.46885476e-05 3.05681282e-05 7.84458254e-05 1.01186427e-04\n",
      " 1.14423311e-04 2.82961479e-04 8.30886500e-04 1.62530623e-01\n",
      " 4.17278324e-02 1.47209899e-01 7.77387248e-02 2.77888589e-02\n",
      " 7.13938788e-03 5.32920261e-01 3.73758359e-04 1.38254359e-04\n",
      " 5.13092627e-05 2.67567664e-04 3.53118501e-05 1.41399059e-05\n",
      " 4.38723467e-05 5.67653986e-05 1.50835663e-05 8.83384965e-05\n",
      " 1.08111635e-04 0.00000000e+00 0.00000000e+00 4.88799596e-06\n",
      " 0.00000000e+00 2.38744591e-06 0.00000000e+00 0.00000000e+00\n",
      " 5.59263421e-06 1.14132850e-05 2.72896628e-05 5.01602606e-06\n",
      " 9.87252982e-06 0.00000000e+00 3.56898342e-06 0.00000000e+00\n",
      " 6.45020064e-06 0.00000000e+00 0.00000000e+00 1.40573042e-04\n",
      " 1.24248903e-06 9.58239672e-06 1.76038964e-05 0.00000000e+00\n",
      " 1.17261841e-05 1.52002695e-06 0.00000000e+00 0.00000000e+00\n",
      " 0.00000000e+00 0.00000000e+00 0.00000000e+00 2.86248613e-08\n",
      " 0.00000000e+00 0.00000000e+00 9.98388860e-06]\n"
     ]
    }
   ],
   "source": [
    "print(importances_gbm)"
   ]
  },
  {
   "cell_type": "code",
   "execution_count": 24,
   "id": "a477a85b",
   "metadata": {},
   "outputs": [
    {
     "name": "stdout",
     "output_type": "stream",
     "text": [
      "gbm:  [13  7  9 10  8]\n",
      "rffs:  [13  8  7  6  5]\n"
     ]
    }
   ],
   "source": [
    "n = 5\n",
    "selected_features_gbm = importances_gbm.argsort()[::-1][:n]\n",
    "print(\"gbm: \",selected_features_gbm)\n",
    "\n",
    "n = 5\n",
    "selected_features_rffs = importances_rffs.argsort()[::-1][:n]\n",
    "print(\"rffs: \",selected_features_rffs)"
   ]
  },
  {
   "cell_type": "code",
   "execution_count": 25,
   "id": "f5c2aebd",
   "metadata": {},
   "outputs": [
    {
     "name": "stdout",
     "output_type": "stream",
     "text": [
      "gbm:  [13  7  9 10  8 11 12  6]\n",
      "rffs:  [13  8  7  6  5  9 10 11]\n"
     ]
    }
   ],
   "source": [
    "n = 8\n",
    "selected_features_gbm_8 = importances_gbm.argsort()[::-1][:n]\n",
    "print(\"gbm: \",selected_features_gbm_8)\n",
    "\n",
    "n = 8\n",
    "selected_features_rffs_8 = importances_rffs.argsort()[::-1][:n]\n",
    "print(\"rffs: \",selected_features_rffs_8)"
   ]
  },
  {
   "cell_type": "code",
   "execution_count": 26,
   "id": "3e625e53",
   "metadata": {},
   "outputs": [],
   "source": [
    "indices = [13, 7, 9, 10, 8]"
   ]
  },
  {
   "cell_type": "code",
   "execution_count": 27,
   "id": "7de6b515",
   "metadata": {},
   "outputs": [
    {
     "name": "stdout",
     "output_type": "stream",
     "text": [
      "5 important features of gbm\n",
      "AMiscell\n",
      "APD\n",
      "APH\n",
      "Afear\n",
      "AHome\n",
      "\n",
      "8 important features of gbm\n",
      "AMiscell\n",
      "APD\n",
      "APH\n",
      "Afear\n",
      "AHome\n",
      "ACS\n",
      "AGuilt\n",
      "ToSC\n"
     ]
    }
   ],
   "source": [
    "print('5 important features of gbm')\n",
    "for i in selected_features_gbm:\n",
    "    print(df.columns[i])\n",
    "print()\n",
    "print('8 important features of gbm')\n",
    "for i in selected_features_gbm_8:\n",
    "    print(df.columns[i])"
   ]
  },
  {
   "cell_type": "code",
   "execution_count": 28,
   "id": "e687f35d",
   "metadata": {},
   "outputs": [
    {
     "name": "stdout",
     "output_type": "stream",
     "text": [
      "5 important features of rffs\n",
      "AMiscell\n",
      "AHome\n",
      "APD\n",
      "ToSC\n",
      "ToDep\n",
      "\n",
      "8 important features of rffs\n",
      "AMiscell\n",
      "AHome\n",
      "APD\n",
      "ToSC\n",
      "ToDep\n",
      "APH\n",
      "Afear\n",
      "ACS\n"
     ]
    }
   ],
   "source": [
    "print('5 important features of rffs')\n",
    "for i in selected_features_rffs:\n",
    "    print(df.columns[i])\n",
    "print()\n",
    "print('8 important features of rffs')\n",
    "for i in selected_features_rffs_8:\n",
    "    print(df.columns[i])"
   ]
  },
  {
   "cell_type": "code",
   "execution_count": 29,
   "id": "46caf530",
   "metadata": {},
   "outputs": [],
   "source": [
    "X_selected_gbm=df[['AMiscell','APD','APH','Afear','AHome']]"
   ]
  },
  {
   "cell_type": "code",
   "execution_count": 30,
   "id": "b3164528",
   "metadata": {},
   "outputs": [],
   "source": [
    "X_selected_rffs=df[['AMiscell','AHome','APD','ToSC','ToDep',]]"
   ]
  },
  {
   "cell_type": "code",
   "execution_count": 31,
   "id": "86094dab",
   "metadata": {},
   "outputs": [
    {
     "name": "stdout",
     "output_type": "stream",
     "text": [
      "(268, 5)\n"
     ]
    }
   ],
   "source": [
    "print(X_selected_gbm.shape)"
   ]
  },
  {
   "cell_type": "code",
   "execution_count": 32,
   "id": "5e37c63b",
   "metadata": {},
   "outputs": [],
   "source": [
    "X_train_rffs,X_test_rffs,y_train_rffs,y_test_rffs = train_test_split(X_selected_rffs,y,test_size=0.3)\n",
    "X_train_gbm,X_test_gbm,y_train_gbm,y_test_gbm = train_test_split(X_selected_gbm,y,test_size=0.3)"
   ]
  },
  {
   "cell_type": "code",
   "execution_count": 33,
   "id": "2efd38b1",
   "metadata": {},
   "outputs": [],
   "source": [
    "from sklearn.metrics import mean_squared_error, r2_score"
   ]
  },
  {
   "cell_type": "markdown",
   "id": "642e2593",
   "metadata": {},
   "source": [
    "###### LINEAR REGRESSION"
   ]
  },
  {
   "cell_type": "code",
   "execution_count": 34,
   "id": "bd0d7d5a",
   "metadata": {},
   "outputs": [],
   "source": [
    "from sklearn.linear_model import LinearRegression"
   ]
  },
  {
   "cell_type": "code",
   "execution_count": 35,
   "id": "ce596399",
   "metadata": {},
   "outputs": [],
   "source": [
    "lr=LinearRegression()"
   ]
  },
  {
   "cell_type": "code",
   "execution_count": 36,
   "id": "cc62e66d",
   "metadata": {},
   "outputs": [],
   "source": [
    "lr.fit(X_train, y_train)\n",
    "y_pred_lr=lr.predict(X_test)"
   ]
  },
  {
   "cell_type": "code",
   "execution_count": 37,
   "id": "a89b716a",
   "metadata": {},
   "outputs": [
    {
     "name": "stdout",
     "output_type": "stream",
     "text": [
      "mse: 1.1641950805110564e-26\n",
      "rmse: 1.078978721064997e-13\n",
      "r2score:  1.0\n"
     ]
    }
   ],
   "source": [
    "import math\n",
    "mse_lr=mean_squared_error(y_test, y_pred_lr)\n",
    "r2_lr=r2_score(y_test, y_pred_lr)\n",
    "print('mse:', mse_lr)\n",
    "print('rmse:',math.sqrt(mse_lr))\n",
    "print('r2score: ',r2_lr)"
   ]
  },
  {
   "cell_type": "code",
   "execution_count": 38,
   "id": "4bcce24c",
   "metadata": {},
   "outputs": [],
   "source": [
    "#on feature selection of rffs\n",
    "lr.fit(X_train_rffs, y_train_rffs)\n",
    "y_pred_lr_rffs=lr.predict(X_test_rffs)"
   ]
  },
  {
   "cell_type": "code",
   "execution_count": 39,
   "id": "76aabea1",
   "metadata": {},
   "outputs": [
    {
     "name": "stdout",
     "output_type": "stream",
     "text": [
      "mse:  35.86735513549089\n",
      "rmse: 5.988936060394274\n",
      "r2score:  -0.5678422730652564\n"
     ]
    }
   ],
   "source": [
    "mse_lr_rffs=mean_squared_error(y_test_rffs, y_pred_lr_rffs)\n",
    "r2_lr_rffs=r2_score(y_test, y_pred_lr_rffs)\n",
    "print('mse: ',mse_lr_rffs)\n",
    "print('rmse:',math.sqrt(mse_lr_rffs))\n",
    "print('r2score: ',r2_lr_rffs)"
   ]
  },
  {
   "cell_type": "code",
   "execution_count": 40,
   "id": "c397d806",
   "metadata": {},
   "outputs": [],
   "source": [
    "#on feature selection of gbm\n",
    "lr.fit(X_train_gbm, y_train_gbm)\n",
    "y_pred_lr_gbm=lr.predict(X_test_gbm)"
   ]
  },
  {
   "cell_type": "code",
   "execution_count": 41,
   "id": "8ecbee4f",
   "metadata": {},
   "outputs": [
    {
     "name": "stdout",
     "output_type": "stream",
     "text": [
      "mse:  5.632776012687908\n",
      "rmse: 2.3733470063789466\n",
      "r2score:  -1.090879565884154\n"
     ]
    }
   ],
   "source": [
    "mse_lr_gbm=mean_squared_error(y_test_gbm, y_pred_lr_gbm)\n",
    "r2_lr_gbm=r2_score(y_test, y_pred_lr_gbm)\n",
    "print('mse: ',mse_lr_gbm)\n",
    "print('rmse:',math.sqrt(mse_lr_gbm))\n",
    "print('r2score: ',r2_lr_gbm)"
   ]
  },
  {
   "cell_type": "markdown",
   "id": "8d9a1e0d",
   "metadata": {},
   "source": [
    "##### Lasso regression"
   ]
  },
  {
   "cell_type": "code",
   "execution_count": 42,
   "id": "bec56ed9",
   "metadata": {},
   "outputs": [],
   "source": [
    "from sklearn.linear_model import Lasso"
   ]
  },
  {
   "cell_type": "code",
   "execution_count": 43,
   "id": "e3f3a4d6",
   "metadata": {},
   "outputs": [],
   "source": [
    "lasso=Lasso(alpha=0.1)"
   ]
  },
  {
   "cell_type": "code",
   "execution_count": 44,
   "id": "9919ea02",
   "metadata": {},
   "outputs": [],
   "source": [
    "lasso.fit(X_train, y_train)\n",
    "y_pred_lasso= lasso.predict(X_test)"
   ]
  },
  {
   "cell_type": "code",
   "execution_count": 45,
   "id": "b66e5587",
   "metadata": {},
   "outputs": [
    {
     "name": "stdout",
     "output_type": "stream",
     "text": [
      "mse: 0.007508487187053056\n",
      "rmse: 0.08665152732094833\n",
      "r2score:  0.9999832740012636\n"
     ]
    }
   ],
   "source": [
    "mse_lasso=mean_squared_error(y_test, y_pred_lasso)\n",
    "r2_lasso=r2_score(y_test, y_pred_lasso)\n",
    "print('mse:', mse_lasso)\n",
    "print('rmse:',math.sqrt(mse_lasso))\n",
    "print('r2score: ',r2_lasso)"
   ]
  },
  {
   "cell_type": "code",
   "execution_count": 46,
   "id": "ecc4d4a3",
   "metadata": {},
   "outputs": [],
   "source": [
    "#on feature selection of rffs\n",
    "lasso.fit(X_train_rffs, y_train_rffs)\n",
    "y_pred_lasso_rffs=lasso.predict(X_test_rffs)"
   ]
  },
  {
   "cell_type": "code",
   "execution_count": 47,
   "id": "11f07dec",
   "metadata": {},
   "outputs": [
    {
     "name": "stdout",
     "output_type": "stream",
     "text": [
      "mse:  35.948338964490006\n",
      "rmse: 5.995693368117653\n",
      "r2score:  -0.5662051216991806\n"
     ]
    }
   ],
   "source": [
    "mse_lasso_rffs=mean_squared_error(y_test_rffs, y_pred_lasso_rffs)\n",
    "r2_lasso_rffs=r2_score(y_test, y_pred_lasso_rffs)\n",
    "print('mse: ',mse_lasso_rffs)\n",
    "print('rmse:',math.sqrt(mse_lasso_rffs))\n",
    "print('r2score: ',r2_lasso_rffs)"
   ]
  },
  {
   "cell_type": "code",
   "execution_count": 48,
   "id": "a5c39056",
   "metadata": {},
   "outputs": [
    {
     "name": "stdout",
     "output_type": "stream",
     "text": [
      "mse:  5.630386504348792\n",
      "rmse: 2.3728435482241115\n",
      "r2score:  -1.0875701123232342\n"
     ]
    }
   ],
   "source": [
    "#on feature selection of gbm\n",
    "lasso.fit(X_train_gbm, y_train_gbm)\n",
    "y_pred_lasso_gbm=lasso.predict(X_test_gbm)\n",
    "mse_lasso_gbm=mean_squared_error(y_test_gbm, y_pred_lasso_gbm)\n",
    "r2_lasso_gbm=r2_score(y_test, y_pred_lasso_gbm)\n",
    "print('mse: ',mse_lasso_gbm)\n",
    "print('rmse:',math.sqrt(mse_lasso_gbm))\n",
    "print('r2score: ',r2_lasso_gbm)"
   ]
  },
  {
   "cell_type": "markdown",
   "id": "58d5519d",
   "metadata": {},
   "source": [
    "##### SVM"
   ]
  },
  {
   "cell_type": "code",
   "execution_count": 49,
   "id": "4d1458c5",
   "metadata": {},
   "outputs": [],
   "source": [
    "from sklearn import svm\n",
    "from sklearn.svm import SVR"
   ]
  },
  {
   "cell_type": "code",
   "execution_count": 50,
   "id": "a042b099",
   "metadata": {},
   "outputs": [
    {
     "name": "stdout",
     "output_type": "stream",
     "text": [
      "mse: 447.4814342044867\n",
      "rmse: 21.15375697611388\n",
      "r2score:  0.003184833828594691\n"
     ]
    }
   ],
   "source": [
    "svm=SVR(kernel='rbf', C=100, gamma=0.2)\n",
    "svm.fit(X_train, y_train)\n",
    "y_pred_svm=svm.predict(X_test)\n",
    "mse_svm=mean_squared_error(y_test, y_pred_svm)\n",
    "r2_svm=r2_score(y_test, y_pred_svm)\n",
    "print('mse:', mse_svm)\n",
    "print('rmse:',math.sqrt(mse_svm))\n",
    "print('r2score: ',r2_svm)"
   ]
  },
  {
   "cell_type": "code",
   "execution_count": 51,
   "id": "7c0cb210",
   "metadata": {},
   "outputs": [
    {
     "name": "stdout",
     "output_type": "stream",
     "text": [
      "mse:  401.88844624603354\n",
      "rmse: 20.04715556496815\n",
      "r2score:  -0.015191574726828083\n"
     ]
    }
   ],
   "source": [
    "#on feature selection of rffs\n",
    "svm.fit(X_train_rffs, y_train_rffs)\n",
    "y_pred_svm_rffs=svm.predict(X_test_rffs)\n",
    "mse_svm_rffs=mean_squared_error(y_test_rffs, y_pred_svm_rffs)\n",
    "r2_svm_rffs=r2_score(y_test, y_pred_svm_rffs)\n",
    "print('mse: ',mse_svm_rffs)\n",
    "print('rmse:',math.sqrt(mse_svm_rffs))\n",
    "print('r2score: ',r2_svm_rffs)"
   ]
  },
  {
   "cell_type": "code",
   "execution_count": 52,
   "id": "982e5481",
   "metadata": {},
   "outputs": [
    {
     "name": "stdout",
     "output_type": "stream",
     "text": [
      "mse:  236.2217154462005\n",
      "rmse: 15.369506024794697\n",
      "r2score:  -0.3317002026320923\n"
     ]
    }
   ],
   "source": [
    "#on feature selection of gbm\n",
    "svm.fit(X_train_gbm, y_train_gbm)\n",
    "y_pred_svm_gbm=svm.predict(X_test_gbm)\n",
    "mse_svm_gbm=mean_squared_error(y_test_gbm, y_pred_svm_gbm)\n",
    "r2_svm_gbm=r2_score(y_test, y_pred_svm_gbm)\n",
    "print('mse: ',mse_svm_gbm)\n",
    "print('rmse:',math.sqrt(mse_svm_gbm))\n",
    "print('r2score: ',r2_svm_gbm)"
   ]
  },
  {
   "cell_type": "markdown",
   "id": "2dc085c5",
   "metadata": {},
   "source": [
    "###### RANDOM FOREST REGRESSION"
   ]
  },
  {
   "cell_type": "code",
   "execution_count": 53,
   "id": "b819fbde",
   "metadata": {},
   "outputs": [],
   "source": [
    "from sklearn.ensemble import RandomForestRegressor"
   ]
  },
  {
   "cell_type": "code",
   "execution_count": 54,
   "id": "6f91719f",
   "metadata": {},
   "outputs": [],
   "source": [
    "rf=RandomForestRegressor(n_estimators=100, random_state=42)"
   ]
  },
  {
   "cell_type": "code",
   "execution_count": 55,
   "id": "1428e430",
   "metadata": {},
   "outputs": [],
   "source": [
    "rf.fit(X_train, y_train)\n",
    "y_pred_rf=rf.predict(X_test)"
   ]
  },
  {
   "cell_type": "code",
   "execution_count": 56,
   "id": "2fbf98ef",
   "metadata": {},
   "outputs": [
    {
     "name": "stdout",
     "output_type": "stream",
     "text": [
      "mse: 26.06156049382715\n",
      "rmse: 5.105052447705817\n",
      "r2score:  0.941944946161791\n"
     ]
    }
   ],
   "source": [
    "mse_rf=mean_squared_error(y_test, y_pred_rf)\n",
    "r2_rf=r2_score(y_test, y_pred_rf)\n",
    "print('mse:', mse_rf)\n",
    "print('rmse:',math.sqrt(mse_rf))\n",
    "print('r2score: ',r2_rf)"
   ]
  },
  {
   "cell_type": "code",
   "execution_count": 57,
   "id": "43185832",
   "metadata": {},
   "outputs": [
    {
     "name": "stdout",
     "output_type": "stream",
     "text": [
      "mse:  65.56132962962963\n",
      "rmse: 8.09699509877767\n",
      "r2score:  -0.42754055561629256\n"
     ]
    }
   ],
   "source": [
    "#on feature selection of rffs\n",
    "rf.fit(X_train_rffs, y_train_rffs)\n",
    "y_pred_rf_rffs=rf.predict(X_test_rffs)\n",
    "mse_rf_rffs=mean_squared_error(y_test_rffs, y_pred_rf_rffs)\n",
    "r2_rf_rffs=r2_score(y_test, y_pred_rf_rffs)\n",
    "print('mse: ',mse_rf_rffs)\n",
    "print('rmse:',math.sqrt(mse_rf_rffs))\n",
    "print('r2score: ',r2_rf_rffs)"
   ]
  },
  {
   "cell_type": "code",
   "execution_count": 58,
   "id": "361c4b3e",
   "metadata": {},
   "outputs": [
    {
     "name": "stdout",
     "output_type": "stream",
     "text": [
      "mse:  31.47610888065843\n",
      "rmse: 5.610357286364072\n",
      "r2score:  -0.8999061137844422\n"
     ]
    }
   ],
   "source": [
    "#on feature selection of gbm\n",
    "rf.fit(X_train_gbm, y_train_gbm)\n",
    "y_pred_rf_gbm=rf.predict(X_test_gbm)\n",
    "mse_rf_gbm=mean_squared_error(y_test_gbm, y_pred_rf_gbm)\n",
    "r2_rf_gbm=r2_score(y_test, y_pred_rf_gbm)\n",
    "print('mse: ',mse_rf_gbm)\n",
    "print('rmse:',math.sqrt(mse_rf_gbm))\n",
    "print('r2score: ',r2_rf_gbm)"
   ]
  },
  {
   "cell_type": "markdown",
   "id": "2afead13",
   "metadata": {},
   "source": [
    "###### RIDGE REGRESSION"
   ]
  },
  {
   "cell_type": "code",
   "execution_count": 59,
   "id": "7293f0d2",
   "metadata": {},
   "outputs": [
    {
     "name": "stdout",
     "output_type": "stream",
     "text": [
      "mse: 0.017353604907286053\n",
      "rmse: 0.13173308205339332\n",
      "r2score:  0.9999613428955101\n"
     ]
    }
   ],
   "source": [
    "from sklearn.linear_model import Ridge\n",
    "from sklearn.preprocessing import StandardScaler\n",
    "scaler=StandardScaler()\n",
    "X_train_scaled=scaler.fit_transform(X_train)\n",
    "X_test_scaled= scaler.transform(X_test)\n",
    "ridge=Ridge(alpha=1.0)\n",
    "ridge.fit(X_train_scaled, y_train)\n",
    "y_pred_ridge=ridge.predict(X_test_scaled)\n",
    "mse_ridge=mean_squared_error(y_test, y_pred_ridge)\n",
    "r2_ridge=r2_score(y_test, y_pred_ridge)\n",
    "print('mse:', mse_ridge)\n",
    "print('rmse:',math.sqrt(mse_ridge))\n",
    "print('r2score: ',r2_ridge)"
   ]
  },
  {
   "cell_type": "code",
   "execution_count": 60,
   "id": "5b3979ce",
   "metadata": {},
   "outputs": [
    {
     "name": "stdout",
     "output_type": "stream",
     "text": [
      "mse:  35.863047393387205\n",
      "rmse: 5.988576407910916\n",
      "r2score:  -0.5676921302716771\n"
     ]
    }
   ],
   "source": [
    "#on feature selection of rffs\n",
    "# ridge=Ridge(alpha=1.0)\n",
    "ridge.fit(X_train_rffs, y_train_rffs)\n",
    "y_pred_ridge_rffs=ridge.predict(X_test_rffs)\n",
    "mse_ridge_rffs=mean_squared_error(y_test_rffs, y_pred_ridge_rffs)\n",
    "r2_ridge_rffs=r2_score(y_test, y_pred_ridge_rffs)\n",
    "print('mse: ',mse_ridge_rffs)\n",
    "print('rmse:',math.sqrt(mse_ridge_rffs))\n",
    "print('r2score: ',r2_ridge_rffs)"
   ]
  },
  {
   "cell_type": "code",
   "execution_count": 61,
   "id": "8a2f8c0d",
   "metadata": {},
   "outputs": [
    {
     "name": "stdout",
     "output_type": "stream",
     "text": [
      "mse:  5.632339820435524\n",
      "rmse: 2.3732551106940702\n",
      "r2score:  -1.0906780315800075\n"
     ]
    }
   ],
   "source": [
    "#on feature selection of gbm\n",
    "ridge.fit(X_train_gbm, y_train_gbm)\n",
    "y_pred_ridge_gbm=ridge.predict(X_test_gbm)\n",
    "mse_ridge_gbm=mean_squared_error(y_test_gbm, y_pred_ridge_gbm)\n",
    "r2_ridge_gbm=r2_score(y_test, y_pred_ridge_gbm)\n",
    "print('mse: ',mse_ridge_gbm)\n",
    "print('rmse:',math.sqrt(mse_ridge_gbm))\n",
    "print('r2score: ',r2_ridge_gbm)"
   ]
  },
  {
   "cell_type": "markdown",
   "id": "c1f20a3d",
   "metadata": {},
   "source": [
    "###### DECISION TREES"
   ]
  },
  {
   "cell_type": "code",
   "execution_count": 62,
   "id": "0b5fe630",
   "metadata": {},
   "outputs": [
    {
     "name": "stdout",
     "output_type": "stream",
     "text": [
      "mse: 81.11111111111111\n",
      "rmse: 9.006170724070865\n",
      "r2score:  0.8193158877210042\n"
     ]
    }
   ],
   "source": [
    "from sklearn.tree import DecisionTreeRegressor\n",
    "dt = DecisionTreeRegressor(random_state=42)\n",
    "dt.fit(X_train, y_train)\n",
    "y_pred_dt= dt.predict(X_test)\n",
    "mse_dt=mean_squared_error(y_test, y_pred_dt)\n",
    "r2_dt=r2_score(y_test, y_pred_dt)\n",
    "print('mse:', mse_dt)\n",
    "print('rmse:',math.sqrt(mse_dt))\n",
    "print('r2score: ',r2_dt)"
   ]
  },
  {
   "cell_type": "code",
   "execution_count": 63,
   "id": "7509ec99",
   "metadata": {},
   "outputs": [
    {
     "name": "stdout",
     "output_type": "stream",
     "text": [
      "mse:  85.0246913580247\n",
      "rmse: 9.220883436961163\n",
      "r2score:  -0.5049858995975292\n"
     ]
    }
   ],
   "source": [
    "#on feature selection of rffs\n",
    "\n",
    "dt.fit(X_train_rffs, y_train_rffs)\n",
    "y_pred_dt_rffs=dt.predict(X_test_rffs)\n",
    "mse_dt_rffs=mean_squared_error(y_test_rffs, y_pred_dt_rffs)\n",
    "r2_dt_rffs=r2_score(y_test, y_pred_dt_rffs)\n",
    "print('mse: ',mse_dt_rffs)\n",
    "print('rmse:',math.sqrt(mse_dt_rffs))\n",
    "print('r2score: ',r2_dt_rffs)"
   ]
  },
  {
   "cell_type": "code",
   "execution_count": 64,
   "id": "8d824377",
   "metadata": {},
   "outputs": [
    {
     "name": "stdout",
     "output_type": "stream",
     "text": [
      "mse:  69.69444444444444\n",
      "rmse: 8.348319857578796\n",
      "r2score:  -0.9441074204174371\n"
     ]
    }
   ],
   "source": [
    "#on feature selection of gbm\n",
    "dt.fit(X_train_gbm, y_train_gbm)\n",
    "y_pred_dt_gbm=dt.predict(X_test_gbm)\n",
    "mse_dt_gbm=mean_squared_error(y_test_gbm, y_pred_dt_gbm)\n",
    "r2_dt_gbm=r2_score(y_test, y_pred_dt_gbm)\n",
    "print('mse: ',mse_dt_gbm)\n",
    "print('rmse:',math.sqrt(mse_dt_gbm))\n",
    "print('r2score: ',r2_dt_gbm)"
   ]
  },
  {
   "cell_type": "markdown",
   "id": "91ad2723",
   "metadata": {},
   "source": [
    "###### XGBOOST"
   ]
  },
  {
   "cell_type": "code",
   "execution_count": 65,
   "id": "17bb983e",
   "metadata": {},
   "outputs": [
    {
     "name": "stdout",
     "output_type": "stream",
     "text": [
      "Requirement already satisfied: xgboost in c:\\users\\rithika\\anaconda3\\lib\\site-packages (1.7.4)\n",
      "Requirement already satisfied: scipy in c:\\users\\rithika\\anaconda3\\lib\\site-packages (from xgboost) (1.9.1)\n",
      "Requirement already satisfied: numpy in c:\\users\\rithika\\anaconda3\\lib\\site-packages (from xgboost) (1.21.5)\n",
      "Note: you may need to restart the kernel to use updated packages.\n"
     ]
    }
   ],
   "source": [
    "pip install xgboost"
   ]
  },
  {
   "cell_type": "code",
   "execution_count": 66,
   "id": "dcb6bb51",
   "metadata": {},
   "outputs": [],
   "source": [
    "import xgboost as xg"
   ]
  },
  {
   "cell_type": "code",
   "execution_count": 67,
   "id": "31eaf8c4",
   "metadata": {},
   "outputs": [],
   "source": [
    "xgbr = xg.XGBRegressor(objective ='reg:linear',n_estimators = 10, seed = 123)"
   ]
  },
  {
   "cell_type": "code",
   "execution_count": 68,
   "id": "81a32960",
   "metadata": {},
   "outputs": [
    {
     "name": "stdout",
     "output_type": "stream",
     "text": [
      "[19:10:16] WARNING: C:/buildkite-agent/builds/buildkite-windows-cpu-autoscaling-group-i-0fc7796c793e6356f-1/xgboost/xgboost-ci-windows/src/objective/regression_obj.cu:213: reg:linear is now deprecated in favor of reg:squarederror.\n"
     ]
    },
    {
     "data": {
      "text/plain": [
       "XGBRegressor(base_score=None, booster=None, callbacks=None,\n",
       "             colsample_bylevel=None, colsample_bynode=None,\n",
       "             colsample_bytree=None, early_stopping_rounds=None,\n",
       "             enable_categorical=False, eval_metric=None, feature_types=None,\n",
       "             gamma=None, gpu_id=None, grow_policy=None, importance_type=None,\n",
       "             interaction_constraints=None, learning_rate=None, max_bin=None,\n",
       "             max_cat_threshold=None, max_cat_to_onehot=None,\n",
       "             max_delta_step=None, max_depth=None, max_leaves=None,\n",
       "             min_child_weight=None, missing=nan, monotone_constraints=None,\n",
       "             n_estimators=10, n_jobs=None, num_parallel_tree=None,\n",
       "             objective='reg:linear', predictor=None, ...)"
      ]
     },
     "execution_count": 68,
     "metadata": {},
     "output_type": "execute_result"
    }
   ],
   "source": [
    "xgbr.fit(X_train, y_train)"
   ]
  },
  {
   "cell_type": "code",
   "execution_count": 69,
   "id": "49affe51",
   "metadata": {},
   "outputs": [],
   "source": [
    "y_pred_xg = xgbr.predict(X_test)"
   ]
  },
  {
   "cell_type": "code",
   "execution_count": 70,
   "id": "ab76438b",
   "metadata": {},
   "outputs": [
    {
     "name": "stdout",
     "output_type": "stream",
     "text": [
      "mse: 19.030014277961147\n",
      "rmse: 4.3623404587401415\n",
      "r2score:  0.9576085053037942\n"
     ]
    }
   ],
   "source": [
    "mse_xg=mean_squared_error(y_test, y_pred_xg)\n",
    "r2_xg=r2_score(y_test, y_pred_xg)\n",
    "print('mse:', mse_xg)\n",
    "print('rmse:',math.sqrt(mse_xg))\n",
    "print('r2score: ',r2_xg)"
   ]
  },
  {
   "cell_type": "code",
   "execution_count": 71,
   "id": "af715fb3",
   "metadata": {},
   "outputs": [
    {
     "name": "stdout",
     "output_type": "stream",
     "text": [
      "[19:10:18] WARNING: C:/buildkite-agent/builds/buildkite-windows-cpu-autoscaling-group-i-0fc7796c793e6356f-1/xgboost/xgboost-ci-windows/src/objective/regression_obj.cu:213: reg:linear is now deprecated in favor of reg:squarederror.\n",
      "mse:  112.66826792142801\n",
      "rmse: 10.614530979813852\n",
      "r2score:  -0.4495525336560455\n"
     ]
    }
   ],
   "source": [
    "xgbr.fit(X_train_rffs, y_train_rffs)\n",
    "y_pred_xg_rffs=xgbr.predict(X_test_rffs)\n",
    "mse_xg_rffs=mean_squared_error(y_test_rffs, y_pred_xg_rffs)\n",
    "r2_xg_rffs=r2_score(y_test, y_pred_xg_rffs)\n",
    "print('mse: ',mse_xg_rffs)\n",
    "print('rmse:',math.sqrt(mse_xg_rffs))\n",
    "print('r2score: ',r2_xg_rffs)"
   ]
  },
  {
   "cell_type": "code",
   "execution_count": 72,
   "id": "1a2459a8",
   "metadata": {},
   "outputs": [
    {
     "name": "stdout",
     "output_type": "stream",
     "text": [
      "[19:10:19] WARNING: C:/buildkite-agent/builds/buildkite-windows-cpu-autoscaling-group-i-0fc7796c793e6356f-1/xgboost/xgboost-ci-windows/src/objective/regression_obj.cu:213: reg:linear is now deprecated in favor of reg:squarederror.\n",
      "mse:  47.86711318448116\n",
      "rmse: 6.918606303619333\n",
      "r2score:  -0.887351099272929\n"
     ]
    }
   ],
   "source": [
    "xgbr.fit(X_train_gbm, y_train_gbm)\n",
    "y_pred_xg_gbm=xgbr.predict(X_test_gbm)\n",
    "mse_xg_gbm=mean_squared_error(y_test_gbm, y_pred_xg_gbm)\n",
    "r2_xg_gbm=r2_score(y_test, y_pred_xg_gbm)\n",
    "print('mse: ',mse_xg_gbm)\n",
    "print('rmse:',math.sqrt(mse_xg_gbm))\n",
    "print('r2score: ',r2_xg_gbm)"
   ]
  },
  {
   "cell_type": "code",
   "execution_count": null,
   "id": "0c11ec13",
   "metadata": {},
   "outputs": [],
   "source": []
  },
  {
   "cell_type": "code",
   "execution_count": 73,
   "id": "c8841c04",
   "metadata": {},
   "outputs": [],
   "source": [
    "rf = RandomForestRegressor(n_estimators=100, random_state=42)\n",
    "rf.fit(X_train, y_train)\n",
    "\n",
    "# Train Lasso Regression model\n",
    "lasso = Lasso(alpha=0.1, random_state=42)\n",
    "lasso.fit(X_train, y_train)\n",
    "\n",
    "# Train Ridge Regression model\n",
    "ridge = Ridge(alpha=1.0, random_state=42)\n",
    "ridge.fit(X_train, y_train)\n",
    "\n",
    "# Make predictions using each model\n",
    "rf_pred = rf.predict(X_test)\n",
    "lasso_pred = lasso.predict(X_test)\n",
    "ridge_pred = ridge.predict(X_test)"
   ]
  },
  {
   "cell_type": "code",
   "execution_count": 75,
   "id": "c47a980a",
   "metadata": {},
   "outputs": [
    {
     "name": "stdout",
     "output_type": "stream",
     "text": [
      "Ensemble MSE: 0.380438271604939\n",
      " Ensemble rmse: 0.6167967830695447\n",
      "Ensemble r2score:  0.9991525310103602\n"
     ]
    }
   ],
   "source": [
    "ensemble_data = pd.DataFrame({'rf_pred': rf_pred, 'lasso_pred': lasso_pred, 'ridge_pred': ridge_pred})\n",
    "\n",
    "# Train final model on ensemble data\n",
    "final_model = RandomForestRegressor(n_estimators=100, random_state=42)\n",
    "final_model.fit(ensemble_data, y_test)\n",
    "\n",
    "# Make final predictions using the ensemble model\n",
    "final_pred = final_model.predict(ensemble_data)\n",
    "\n",
    "# Evaluate performance\n",
    "mse_total = mean_squared_error(y_test, final_pred)\n",
    "print('Ensemble MSE:', mse)\n",
    "r2_total=r2_score(y_test, final_pred)\n",
    "print(' Ensemble rmse:',math.sqrt(mse_total))\n",
    "print('Ensemble r2score: ',r2_total)"
   ]
  },
  {
   "cell_type": "code",
   "execution_count": 76,
   "id": "e23b0e01",
   "metadata": {},
   "outputs": [],
   "source": [
    "def model(X_train, y_train, X_test):\n",
    "    rf = RandomForestRegressor(n_estimators=100, random_state=42)\n",
    "    rf.fit(X_train, y_train)\n",
    "\n",
    "# Train Lasso Regression model\n",
    "    lasso = Lasso(alpha=0.1, random_state=42)\n",
    "    lasso.fit(X_train, y_train)\n",
    "\n",
    "# Train Ridge Regression model\n",
    "    ridge = Ridge(alpha=1.0, random_state=42)\n",
    "    ridge.fit(X_train, y_train)\n",
    "\n",
    "# Make predictions using each model\n",
    "    rf_pred = rf.predict(X_test)\n",
    "    lasso_pred = lasso.predict(X_test)\n",
    "    ridge_pred = ridge.predict(X_test)\n",
    "    ensemble_data = pd.DataFrame({'rf_pred': rf_pred, 'lasso_pred': lasso_pred, 'ridge_pred': ridge_pred})\n",
    "\n",
    "# Train final model on ensemble data\n",
    "    final_model = RandomForestRegressor(n_estimators=100, random_state=42)\n",
    "    final_model.fit(ensemble_data, y_test)\n",
    "\n",
    "# Make final predictions using the ensemble model\n",
    "    final_pred = final_model.predict(ensemble_data)\n",
    "\n",
    "# Evaluate performance\n",
    "    mse_total = mean_squared_error(y_test, final_pred)\n",
    "    print('Ensemble MSE:', mse)\n",
    "    r2_total=r2_score(y_test, final_pred)\n",
    "    print(' Ensemble rmse:',math.sqrt(mse_total))\n",
    "    print('Ensemble r2score: ',r2_total)"
   ]
  },
  {
   "cell_type": "code",
   "execution_count": 77,
   "id": "3d41c04c",
   "metadata": {},
   "outputs": [
    {
     "name": "stdout",
     "output_type": "stream",
     "text": [
      "Ensemble MSE: 0.380438271604939\n",
      " Ensemble rmse: 10.543259051446945\n",
      "Ensemble r2score:  0.7523779181974818\n"
     ]
    }
   ],
   "source": [
    "gbm_ensmble=model(X_train_gbm, y_train_gbm, X_test_gbm)"
   ]
  },
  {
   "cell_type": "code",
   "execution_count": 78,
   "id": "b8181bf5",
   "metadata": {},
   "outputs": [
    {
     "name": "stdout",
     "output_type": "stream",
     "text": [
      "Ensemble MSE: 0.380438271604939\n",
      " Ensemble rmse: 9.134258739276515\n",
      "Ensemble r2score:  0.8141398709336144\n"
     ]
    }
   ],
   "source": [
    "rffs_ensmble=model(X_train_rffs, y_train_rffs, X_test_rffs)"
   ]
  },
  {
   "cell_type": "code",
   "execution_count": null,
   "id": "c742649d",
   "metadata": {},
   "outputs": [],
   "source": []
  }
 ],
 "metadata": {
  "kernelspec": {
   "display_name": "Python 3 (ipykernel)",
   "language": "python",
   "name": "python3"
  },
  "language_info": {
   "codemirror_mode": {
    "name": "ipython",
    "version": 3
   },
   "file_extension": ".py",
   "mimetype": "text/x-python",
   "name": "python",
   "nbconvert_exporter": "python",
   "pygments_lexer": "ipython3",
   "version": "3.9.13"
  }
 },
 "nbformat": 4,
 "nbformat_minor": 5
}
